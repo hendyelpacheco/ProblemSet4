{
 "cells": [
  {
   "cell_type": "markdown",
   "metadata": {},
   "source": [
    "# Problem Set 4"
   ]
  },
  {
   "cell_type": "markdown",
   "metadata": {},
   "source": [
    "<b>Hendyel Pacheco</b>"
   ]
  },
  {
   "cell_type": "markdown",
   "metadata": {},
   "source": [
    "<b>1. Describe the data.</b>\n",
    "\n",
    "Write a metadata document that describes the source of the data, what the data are, what each column is, etc."
   ]
  },
  {
   "cell_type": "markdown",
   "metadata": {},
   "source": [
    "The files provided here have all been remapped to the ARS-UCD1.2 cow genome assembly for SNP50 and BOVMD assays.\n",
    "\n",
    "Data were downloaded November 21, 2018.\n",
    "\n",
    "The columns in the dataset are in the table below:\n",
    "\n",
    "\n",
    "|Column header            |Description   |\n",
    "|-------------------------|--------------|\n",
    "| snp_number              |Number of SNP |\n",
    "| marker_name             |Name of the marker|\n",
    "| assay                   |SNP genotyping assay|\n",
    "| chr_probe_a_ars120      |Genomic Bank|\n",
    "| chr_pos_probe_a_ars120  |SNP Position |\n",
    "| chr_probe_b_ars120      |Genomic Bank|\n",
    "|chr_pos_right_flank_a_ars120| SNP position |\n",
    "| ars120_chrn             |Number of Chromosome|"
   ]
  },
  {
   "cell_type": "markdown",
   "metadata": {},
   "source": [
    "<b>2) Normalize the data. </b>\n",
    "\n",
    "Write descriptions (words, drawings, or tables are fine--not code at this point) of the tables you could use to normalize these data. Describe why you chose the normalize the data in this manner. Include the column names, data types for each column, primary and foreign keys you would use. (8pts.)"
   ]
  },
  {
   "cell_type": "markdown",
   "metadata": {},
   "source": [
    "The data that I chose has some SNP informations, and some repeated informations, so it is feasible to normalize.\n",
    "\n",
    "   * I can keep just one of the columns that contains the \"Genomic Bank\" and the \"SNP position\".\n",
    "   * The Foreign key will be the \"snp_number\" and the Primary key will be the \"marker_name\".\n",
    "  "
   ]
  },
  {
   "cell_type": "markdown",
   "metadata": {},
   "source": [
    "|Column header - SNP50    |Description   |\n",
    "|-------------------------|--------------|\n",
    "| snp_number              |Number of SNP <b>(Foreign Key)</b>|\n",
    "| marker_name             |Name of the marker <b>(Primary Key)</b>|\n",
    "| chr_probe_a_ars120      |Genomic Bank|\n",
    "| chr_pos_probe_a_ars120  |SNP Position |\n",
    "| ars120_chrn             |Number of Chromosome|"
   ]
  },
  {
   "cell_type": "markdown",
   "metadata": {},
   "source": [
    "<b>3) Either directly in sqlite or in Python with SQLAlchemy, write the code needed to define the tables above. (6pts.)</b>"
   ]
  },
  {
   "cell_type": "code",
   "execution_count": 43,
   "metadata": {},
   "outputs": [],
   "source": [
    "from sqlalchemy import create_engine\n",
    "from sqlalchemy import Table, Column, Integer, String, MetaData, ForeignKey\n",
    "from sqlalchemy import DateTime, Boolean\n",
    "from sqlalchemy import exists\n",
    "from sqlalchemy import sql, select, join, desc\n",
    "\n",
    "# Create a sqlite database \n",
    "engine = create_engine('sqlite:///SNP_problem4.sqlite')\n",
    "\n",
    "metadata = MetaData(engine)\n",
    "\n",
    "# Try to load SNP50 info from database, if not there, create it.\n",
    "try:\n",
    "    SNP50 = Table('SNP50', metadata, autoload=True)\n",
    "except:\n",
    "    SNP50 = Table ('SNP50', metadata,\n",
    "                Column('SNP_number', Integer, autoincrement=True),\n",
    "                Column('Marker_name', String, primary_key=True),\n",
    "                Column('Chr_genomic', String),\n",
    "                Column('Chr_pos', String),\n",
    "                Column('Chr_number', String)\n",
    "               )\n",
    "    \n",
    "\n",
    "metadata.create_all(engine)"
   ]
  },
  {
   "cell_type": "markdown",
   "metadata": {},
   "source": [
    "<b>4) Write the code to load the data into the database.</b> (2pts) \n",
    "\n",
    "Note this is only 2 points! Don't spend a ton of time on this. If it turns into a headache, don't worry about it."
   ]
  },
  {
   "cell_type": "code",
   "execution_count": 51,
   "metadata": {},
   "outputs": [],
   "source": [
    "# Open to get SNP data\n",
    "import csv\n",
    "\n",
    "SNP = open(\"SNP.csv\")\n",
    "\n",
    "conn = engine.connect()\n",
    "\n",
    "reader = csv.DictReader(SNP)\n",
    "\n",
    "for Line in reader:\n",
    "    ins = SNP50.insert().values(SNP_number=Line['snp_number'],\n",
    "                                Marker_name = Line['marker_name'],\n",
    "                                Chr_genomic = Line['chr_probe_a_ars120'],\n",
    "                                Chr_pos = Line['chr_pos_probe_a_ars120'],\n",
    "                                Chr_number = Line['ars120_chrn']\n",
    "                                          ) \n",
    "    result = conn.execute(ins)\n",
   ]
  },
  {
   "cell_type": "code",
   "execution_count": 52,
   "metadata": {},
   "outputs": [
    {
     "name": "stdout",
     "output_type": "stream",
     "text": [
      "('', 'ARS-BFGL-BAC-27150', 'NC_016145.1', '5284894')\n",
      "('', 'ARS-BFGL-NGS-102941', 'NC_016145.1', '21087140')\n",
      "('', 'ARS-BFGL-NGS-10360', 'NKLS02000030.1', '137807054')\n",
      "('', 'ARS-BFGL-NGS-104396', 'NKLS02000412.1', '117917')\n",
      "('', 'ARS-BFGL-NGS-104764', 'NKLS02000030.1', '89914028')\n",
      "('', 'ARS-BFGL-NGS-13995', 'NKLS02000024.1', '13525337')\n",
      "('', 'ARS-BFGL-NGS-20870', 'NKLS02000030.1', '91479924')\n",
      "('', 'ARS-BFGL-NGS-21633', '', '')\n",
      "('', 'ARS-BFGL-NGS-2370', '', '')\n",
      "('', 'ARS-BFGL-NGS-23950', 'NKLS02000024.1', '30709731')\n",
      "('', 'ARS-BFGL-NGS-24308', '', '')\n",
      "('', 'ARS-BFGL-NGS-26083', '', '')\n",
      "('', 'ARS-BFGL-NGS-34845', '', '')\n",
      "('', 'ARS-BFGL-NGS-35949', 'NKLS02000013.1', '82523668')\n",
      "('', 'ARS-BFGL-NGS-36142', '', '')\n"
     ]
    }
   ],
   "source": [
    "from sqlalchemy import select\n",
    "\n",
    "query = select([SNP50.c.Chr_number, SNP50.c.Marker_name, SNP50.c.Chr_genomic, SNP50.c.Chr_pos])\\\n",
    "        .order_by(SNP50.c.Chr_number)\\\n",
    "        .limit(15)\n",
    "             \n",
    "result = conn.execute(query)\n",
    "for row in result:\n",
    "    print(row)\n",
    "    \n"
   ]
  },
  {
   "cell_type": "markdown",
   "metadata": {},
   "source": [
    "**Extra Credit:** Find another dataset, briefly describe the dataset and columns. Briefly describe the tables you would use and how you would normalize these data. (2pts.) "
   ]
  }
 ],
 "metadata": {
  "kernelspec": {
   "display_name": "Python 3",
   "language": "python",
   "name": "python3"
  },
  "language_info": {
   "codemirror_mode": {
    "name": "ipython",
    "version": 3
   },
   "file_extension": ".py",
   "mimetype": "text/x-python",
   "name": "python",
   "nbconvert_exporter": "python",
   "pygments_lexer": "ipython3",
   "version": "3.6.3"
  }
 },
 "nbformat": 4,
 "nbformat_minor": 2
}
